{
 "cells": [
  {
   "cell_type": "code",
   "execution_count": 15,
   "id": "e4dd2ae8",
   "metadata": {},
   "outputs": [
    {
     "name": "stdout",
     "output_type": "stream",
     "text": [
      "<PreparedRequest [GET]>\n"
     ]
    }
   ],
   "source": [
    "import requests\n",
    "\n",
    "# response = requests.get(\"https://www.thecocktaildb.com/api/json/v1/1/search.php?s=margarita\")\n",
    "response = requests.get(\"https://www.thecocktaildb.com/api/json/v1/1/search.php?i=tamdhu\")\n",
    "\n",
    "print(response.request)"
   ]
  },
  {
   "cell_type": "code",
   "execution_count": 16,
   "id": "79dc5a3e",
   "metadata": {},
   "outputs": [
    {
     "data": {
      "text/plain": [
       "{'ingredients': None}"
      ]
     },
     "execution_count": 16,
     "metadata": {},
     "output_type": "execute_result"
    }
   ],
   "source": [
    "temp_date = response.json()\n",
    "temp_date"
   ]
  },
  {
   "cell_type": "code",
   "execution_count": 11,
   "id": "e9e99a10",
   "metadata": {},
   "outputs": [
    {
     "data": {
      "text/plain": [
       "{'idDrink': '11007',\n",
       " 'strDrink': 'Margarita',\n",
       " 'strDrinkAlternate': None,\n",
       " 'strTags': 'IBA,ContemporaryClassic',\n",
       " 'strVideo': None,\n",
       " 'strCategory': 'Ordinary Drink',\n",
       " 'strIBA': 'Contemporary Classics',\n",
       " 'strAlcoholic': 'Alcoholic',\n",
       " 'strGlass': 'Cocktail glass',\n",
       " 'strInstructions': 'Rub the rim of the glass with the lime slice to make the salt stick to it. Take care to moisten only the outer rim and sprinkle the salt on it. The salt should present to the lips of the imbiber and never mix into the cocktail. Shake the other ingredients with ice, then carefully pour into the glass.',\n",
       " 'strInstructionsES': 'Frota el borde del vaso con la rodaja de lima para que la sal se adhiera a él. Procure humedecer sólo el borde exterior y espolvorear la sal sobre él. La sal debe presentarse en los labios del imbibidor y nunca mezclarse en el cóctel. Agite los demás ingredientes con hielo y viértalos con cuidado en el vaso.',\n",
       " 'strInstructionsDE': 'Reiben Sie den Rand des Glases mit der Limettenscheibe, damit das Salz daran haftet. Achten Sie darauf, dass nur der äußere Rand angefeuchtet wird und streuen Sie das Salz darauf. Das Salz sollte sich auf den Lippen des Genießers befinden und niemals in den Cocktail einmischen. Die anderen Zutaten mit Eis schütteln und vorsichtig in das Glas geben.',\n",
       " 'strInstructionsFR': \"Frotter le bord du verre avec la tranche de citron vert pour faire adhérer le sel. Veillez à n'humidifier que le bord extérieur et à y saupoudrer le sel. Le sel doit se présenter aux lèvres du buveur et ne jamais se mélanger au cocktail. Secouez les autres ingrédients avec de la glace, puis versez-les délicatement dans le verre.\",\n",
       " 'strInstructionsIT': 'Strofina il bordo del bicchiere con la fetta di lime per far aderire il sale.\\r\\nAvere cura di inumidire solo il bordo esterno e cospargere di sale.\\r\\nIl sale dovrebbe presentarsi alle labbra del bevitore e non mescolarsi mai al cocktail.\\r\\nShakerare gli altri ingredienti con ghiaccio, quindi versarli delicatamente nel bicchiere.',\n",
       " 'strInstructionsZH-HANS': None,\n",
       " 'strInstructionsZH-HANT': None,\n",
       " 'strDrinkThumb': 'https://www.thecocktaildb.com/images/media/drink/5noda61589575158.jpg',\n",
       " 'strIngredient1': 'Tequila',\n",
       " 'strIngredient2': 'Triple sec',\n",
       " 'strIngredient3': 'Lime juice',\n",
       " 'strIngredient4': 'Salt',\n",
       " 'strIngredient5': None,\n",
       " 'strIngredient6': None,\n",
       " 'strIngredient7': None,\n",
       " 'strIngredient8': None,\n",
       " 'strIngredient9': None,\n",
       " 'strIngredient10': None,\n",
       " 'strIngredient11': None,\n",
       " 'strIngredient12': None,\n",
       " 'strIngredient13': None,\n",
       " 'strIngredient14': None,\n",
       " 'strIngredient15': None,\n",
       " 'strMeasure1': '1 1/2 oz ',\n",
       " 'strMeasure2': '1/2 oz ',\n",
       " 'strMeasure3': '1 oz ',\n",
       " 'strMeasure4': None,\n",
       " 'strMeasure5': None,\n",
       " 'strMeasure6': None,\n",
       " 'strMeasure7': None,\n",
       " 'strMeasure8': None,\n",
       " 'strMeasure9': None,\n",
       " 'strMeasure10': None,\n",
       " 'strMeasure11': None,\n",
       " 'strMeasure12': None,\n",
       " 'strMeasure13': None,\n",
       " 'strMeasure14': None,\n",
       " 'strMeasure15': None,\n",
       " 'strImageSource': 'https://commons.wikimedia.org/wiki/File:Klassiche_Margarita.jpg',\n",
       " 'strImageAttribution': 'Cocktailmarler',\n",
       " 'strCreativeCommonsConfirmed': 'Yes',\n",
       " 'dateModified': '2015-08-18 14:42:59'}"
      ]
     },
     "execution_count": 11,
     "metadata": {},
     "output_type": "execute_result"
    }
   ],
   "source": [
    "temp_date['drinks'][0]"
   ]
  },
  {
   "cell_type": "code",
   "execution_count": null,
   "id": "3f294ec2",
   "metadata": {},
   "outputs": [],
   "source": []
  }
 ],
 "metadata": {
  "kernelspec": {
   "display_name": "env",
   "language": "python",
   "name": "python3"
  },
  "language_info": {
   "codemirror_mode": {
    "name": "ipython",
    "version": 3
   },
   "file_extension": ".py",
   "mimetype": "text/x-python",
   "name": "python",
   "nbconvert_exporter": "python",
   "pygments_lexer": "ipython3",
   "version": "3.11.11"
  }
 },
 "nbformat": 4,
 "nbformat_minor": 5
}
